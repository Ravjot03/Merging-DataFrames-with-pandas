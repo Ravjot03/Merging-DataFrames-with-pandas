{
  "nbformat": 4,
  "nbformat_minor": 0,
  "metadata": {
    "colab": {
      "name": "MergingDataFrames-1.ipynb",
      "provenance": []
    },
    "kernelspec": {
      "name": "python3",
      "display_name": "Python 3"
    }
  },
  "cells": [
    {
      "cell_type": "markdown",
      "metadata": {
        "id": "-v7r6TcGKwq-",
        "colab_type": "text"
      },
      "source": [
        "#Merging DataFrames with pandas"
      ]
    },
    {
      "cell_type": "markdown",
      "metadata": {
        "id": "HtNEUoqnK2oR",
        "colab_type": "text"
      },
      "source": [
        "## Work By- \n",
        "\n",
        "**Ravjot Singh**\n",
        "\n",
        "[LinkedIn](https://www.linkedin.com/in/ravjot03/)\n",
        "\n",
        "[Github](https://github.com/Ravjot03)\n",
        "\n",
        "[Medium](https://medium.com/@ravjot03)\n",
        "\n",
        "[Twitter](https://twitter.com/ravjot03)\n",
        "\n",
        "E-Mail: ravjot313@gmail.com\n",
        "\n",
        "Mobile: +91-9654446404 (IND)"
      ]
    },
    {
      "cell_type": "markdown",
      "metadata": {
        "id": "aAopFAFe9-i3",
        "colab_type": "text"
      },
      "source": [
        "## Importing the required libraries"
      ]
    },
    {
      "cell_type": "code",
      "metadata": {
        "id": "2gRWu-4Daqov",
        "colab_type": "code",
        "colab": {}
      },
      "source": [
        "import pandas as pd\n",
        "import numpy as np\n",
        "import matplotlib.pyplot as plt\n",
        "import seaborn as sns\n",
        "\n",
        "import pandas.util.testing as tm"
      ],
      "execution_count": 0,
      "outputs": []
    },
    {
      "cell_type": "markdown",
      "metadata": {
        "id": "0ESWlhD5-B5i",
        "colab_type": "text"
      },
      "source": [
        "## Importing the datasets"
      ]
    },
    {
      "cell_type": "code",
      "metadata": {
        "id": "pFlqJXkuUpiT",
        "colab_type": "code",
        "colab": {}
      },
      "source": [
        "bronze = pd.read_csv('bronze_top5.csv')\n",
        "silver = pd.read_csv('silver_top5.csv')"
      ],
      "execution_count": 0,
      "outputs": []
    },
    {
      "cell_type": "markdown",
      "metadata": {
        "id": "HDs87HMOO3ps",
        "colab_type": "text"
      },
      "source": [
        "## Data Analysis Part"
      ]
    },
    {
      "cell_type": "markdown",
      "metadata": {
        "id": "USQ08uYR-Kyk",
        "colab_type": "text"
      },
      "source": [
        "### Adding a new column \"NOC \"to Bronze Dataset consisting of short codes of each country"
      ]
    },
    {
      "cell_type": "code",
      "metadata": {
        "id": "-bIRQ4Bv-KIe",
        "colab_type": "code",
        "colab": {}
      },
      "source": [
        "bronze['NOC'] = ['USA','SOV','UKD','FRA','GER']"
      ],
      "execution_count": 0,
      "outputs": []
    },
    {
      "cell_type": "markdown",
      "metadata": {
        "id": "zi0N0uIN-f7D",
        "colab_type": "text"
      },
      "source": [
        "### Changing the column order of the data"
      ]
    },
    {
      "cell_type": "code",
      "metadata": {
        "id": "ssMqQp9QVEif",
        "colab_type": "code",
        "colab": {
          "base_uri": "https://localhost:8080/",
          "height": 121
        },
        "outputId": "007f7808-9930-46ba-c2ce-79d87a7c8acc"
      },
      "source": [
        "bronze_cols = ['NOC','Country','Total']\n",
        "bronze = bronze[bronze_cols]\n",
        "print(bronze)"
      ],
      "execution_count": 115,
      "outputs": [
        {
          "output_type": "stream",
          "text": [
            "   NOC         Country   Total\n",
            "0  USA   United States  1052.0\n",
            "1  SOV    Soviet Union   584.0\n",
            "2  UKD  United Kingdom   505.0\n",
            "3  FRA          France   475.0\n",
            "4  GER         Germany   454.0\n"
          ],
          "name": "stdout"
        }
      ]
    },
    {
      "cell_type": "markdown",
      "metadata": {
        "id": "abnEeYR4-nNc",
        "colab_type": "text"
      },
      "source": [
        "### Assiging the short codes of each country to a new column in the Silver dataset"
      ]
    },
    {
      "cell_type": "code",
      "metadata": {
        "id": "vjSScaF0-mbz",
        "colab_type": "code",
        "colab": {}
      },
      "source": [
        "silver['NOC'] = ['USA','SOV','UKD','FRA','ITY']"
      ],
      "execution_count": 0,
      "outputs": []
    },
    {
      "cell_type": "markdown",
      "metadata": {
        "id": "_bXY5LUU-vlZ",
        "colab_type": "text"
      },
      "source": [
        "### Changing the order of the columns"
      ]
    },
    {
      "cell_type": "code",
      "metadata": {
        "id": "guusf7VcVlJZ",
        "colab_type": "code",
        "colab": {
          "base_uri": "https://localhost:8080/",
          "height": 121
        },
        "outputId": "48479723-06f7-4173-aae5-4c6bdf61943e"
      },
      "source": [
        "silver_cols = ['NOC','Country','Total']\n",
        "silver = silver[silver_cols]\n",
        "print(silver)"
      ],
      "execution_count": 116,
      "outputs": [
        {
          "output_type": "stream",
          "text": [
            "   NOC         Country   Total\n",
            "0  USA   United States  1195.0\n",
            "1  SOV    Soviet Union   627.0\n",
            "2  UKD  United Kingdom   591.0\n",
            "3  FRA          France   461.0\n",
            "4  ITY           Italy   394.0\n"
          ],
          "name": "stdout"
        }
      ]
    },
    {
      "cell_type": "markdown",
      "metadata": {
        "id": "SKiZzQ1N-zHy",
        "colab_type": "text"
      },
      "source": [
        "## Merging Datasets"
      ]
    },
    {
      "cell_type": "markdown",
      "metadata": {
        "id": "GyctakfG-8rw",
        "colab_type": "text"
      },
      "source": [
        "### Merging all columns\n",
        "\n",
        "This function takes all the columns of both the datasets to merge.\n",
        "\n",
        "That is the rows of merge dataframe consists of all rows where the \"NOC\", \"Country\" and \"Total\" columns are identical in both the dataframes Bronze and Silver. \n",
        "\n",
        "Thus this merge gives us an empty dataframe because the columns does't match."
      ]
    },
    {
      "cell_type": "code",
      "metadata": {
        "id": "vFVbCvU_V8Ux",
        "colab_type": "code",
        "colab": {
          "base_uri": "https://localhost:8080/",
          "height": 49
        },
        "outputId": "13f10f30-df78-45d2-8985-6ce762dfe87a"
      },
      "source": [
        "pd.merge(bronze, silver)"
      ],
      "execution_count": 118,
      "outputs": [
        {
          "output_type": "execute_result",
          "data": {
            "text/html": [
              "<div>\n",
              "<style scoped>\n",
              "    .dataframe tbody tr th:only-of-type {\n",
              "        vertical-align: middle;\n",
              "    }\n",
              "\n",
              "    .dataframe tbody tr th {\n",
              "        vertical-align: top;\n",
              "    }\n",
              "\n",
              "    .dataframe thead th {\n",
              "        text-align: right;\n",
              "    }\n",
              "</style>\n",
              "<table border=\"1\" class=\"dataframe\">\n",
              "  <thead>\n",
              "    <tr style=\"text-align: right;\">\n",
              "      <th></th>\n",
              "      <th>NOC</th>\n",
              "      <th>Country</th>\n",
              "      <th>Total</th>\n",
              "    </tr>\n",
              "  </thead>\n",
              "  <tbody>\n",
              "  </tbody>\n",
              "</table>\n",
              "</div>"
            ],
            "text/plain": [
              "Empty DataFrame\n",
              "Columns: [NOC, Country, Total]\n",
              "Index: []"
            ]
          },
          "metadata": {
            "tags": []
          },
          "execution_count": 118
        }
      ]
    },
    {
      "cell_type": "markdown",
      "metadata": {
        "id": "7ORF14OB_-WQ",
        "colab_type": "text"
      },
      "source": [
        "### Merging ON\n",
        "\n",
        "So now, we our taking a particular column to merge on.\n",
        "\n",
        "\"NOC\" in our case.\n",
        "\n",
        "All the remaining columns are appended to our right.\n",
        "The column labels that are identical will change with their suffixes _x and _y according to their origin.\n",
        "\n",
        "_x - for the first arguemnt to merge\n",
        "\n",
        "_y - for the secoond arguement"
      ]
    },
    {
      "cell_type": "code",
      "metadata": {
        "id": "H73Qe6mRWyS-",
        "colab_type": "code",
        "colab": {
          "base_uri": "https://localhost:8080/",
          "height": 171
        },
        "outputId": "85231a7c-2d07-415d-b8ab-5f6cd1a18ae4"
      },
      "source": [
        "pd.merge(bronze, silver, on='NOC')"
      ],
      "execution_count": 119,
      "outputs": [
        {
          "output_type": "execute_result",
          "data": {
            "text/html": [
              "<div>\n",
              "<style scoped>\n",
              "    .dataframe tbody tr th:only-of-type {\n",
              "        vertical-align: middle;\n",
              "    }\n",
              "\n",
              "    .dataframe tbody tr th {\n",
              "        vertical-align: top;\n",
              "    }\n",
              "\n",
              "    .dataframe thead th {\n",
              "        text-align: right;\n",
              "    }\n",
              "</style>\n",
              "<table border=\"1\" class=\"dataframe\">\n",
              "  <thead>\n",
              "    <tr style=\"text-align: right;\">\n",
              "      <th></th>\n",
              "      <th>NOC</th>\n",
              "      <th>Country_x</th>\n",
              "      <th>Total_x</th>\n",
              "      <th>Country_y</th>\n",
              "      <th>Total_y</th>\n",
              "    </tr>\n",
              "  </thead>\n",
              "  <tbody>\n",
              "    <tr>\n",
              "      <th>0</th>\n",
              "      <td>USA</td>\n",
              "      <td>United States</td>\n",
              "      <td>1052.0</td>\n",
              "      <td>United States</td>\n",
              "      <td>1195.0</td>\n",
              "    </tr>\n",
              "    <tr>\n",
              "      <th>1</th>\n",
              "      <td>SOV</td>\n",
              "      <td>Soviet Union</td>\n",
              "      <td>584.0</td>\n",
              "      <td>Soviet Union</td>\n",
              "      <td>627.0</td>\n",
              "    </tr>\n",
              "    <tr>\n",
              "      <th>2</th>\n",
              "      <td>UKD</td>\n",
              "      <td>United Kingdom</td>\n",
              "      <td>505.0</td>\n",
              "      <td>United Kingdom</td>\n",
              "      <td>591.0</td>\n",
              "    </tr>\n",
              "    <tr>\n",
              "      <th>3</th>\n",
              "      <td>FRA</td>\n",
              "      <td>France</td>\n",
              "      <td>475.0</td>\n",
              "      <td>France</td>\n",
              "      <td>461.0</td>\n",
              "    </tr>\n",
              "  </tbody>\n",
              "</table>\n",
              "</div>"
            ],
            "text/plain": [
              "   NOC       Country_x  Total_x       Country_y  Total_y\n",
              "0  USA   United States   1052.0   United States   1195.0\n",
              "1  SOV    Soviet Union    584.0    Soviet Union    627.0\n",
              "2  UKD  United Kingdom    505.0  United Kingdom    591.0\n",
              "3  FRA          France    475.0          France    461.0"
            ]
          },
          "metadata": {
            "tags": []
          },
          "execution_count": 119
        }
      ]
    },
    {
      "cell_type": "markdown",
      "metadata": {
        "id": "Z2DIQNcnAnrJ",
        "colab_type": "text"
      },
      "source": [
        "### Merging ON Multiple Columns\n",
        "\n",
        "As the country_x and country_y columns are same.\n",
        "\n",
        "To eliminate the identical columns use \"Country\" column in the \"on\" parameter along with \"NOC\" to merge on both the columns.\n",
        "\n",
        "In this way, merge function differs from concatinating (pd.concat() funtion) as merging is allowing  to merge on multiple columns."
      ]
    },
    {
      "cell_type": "code",
      "metadata": {
        "id": "xmd5AVMAW6Ib",
        "colab_type": "code",
        "colab": {
          "base_uri": "https://localhost:8080/",
          "height": 171
        },
        "outputId": "012f35af-03c5-4671-e82c-f41b4c689ec3"
      },
      "source": [
        "pd.merge(bronze, silver, on=['NOC','Country'])"
      ],
      "execution_count": 120,
      "outputs": [
        {
          "output_type": "execute_result",
          "data": {
            "text/html": [
              "<div>\n",
              "<style scoped>\n",
              "    .dataframe tbody tr th:only-of-type {\n",
              "        vertical-align: middle;\n",
              "    }\n",
              "\n",
              "    .dataframe tbody tr th {\n",
              "        vertical-align: top;\n",
              "    }\n",
              "\n",
              "    .dataframe thead th {\n",
              "        text-align: right;\n",
              "    }\n",
              "</style>\n",
              "<table border=\"1\" class=\"dataframe\">\n",
              "  <thead>\n",
              "    <tr style=\"text-align: right;\">\n",
              "      <th></th>\n",
              "      <th>NOC</th>\n",
              "      <th>Country</th>\n",
              "      <th>Total_x</th>\n",
              "      <th>Total_y</th>\n",
              "    </tr>\n",
              "  </thead>\n",
              "  <tbody>\n",
              "    <tr>\n",
              "      <th>0</th>\n",
              "      <td>USA</td>\n",
              "      <td>United States</td>\n",
              "      <td>1052.0</td>\n",
              "      <td>1195.0</td>\n",
              "    </tr>\n",
              "    <tr>\n",
              "      <th>1</th>\n",
              "      <td>SOV</td>\n",
              "      <td>Soviet Union</td>\n",
              "      <td>584.0</td>\n",
              "      <td>627.0</td>\n",
              "    </tr>\n",
              "    <tr>\n",
              "      <th>2</th>\n",
              "      <td>UKD</td>\n",
              "      <td>United Kingdom</td>\n",
              "      <td>505.0</td>\n",
              "      <td>591.0</td>\n",
              "    </tr>\n",
              "    <tr>\n",
              "      <th>3</th>\n",
              "      <td>FRA</td>\n",
              "      <td>France</td>\n",
              "      <td>475.0</td>\n",
              "      <td>461.0</td>\n",
              "    </tr>\n",
              "  </tbody>\n",
              "</table>\n",
              "</div>"
            ],
            "text/plain": [
              "   NOC         Country  Total_x  Total_y\n",
              "0  USA   United States   1052.0   1195.0\n",
              "1  SOV    Soviet Union    584.0    627.0\n",
              "2  UKD  United Kingdom    505.0    591.0\n",
              "3  FRA          France    475.0    461.0"
            ]
          },
          "metadata": {
            "tags": []
          },
          "execution_count": 120
        }
      ]
    },
    {
      "cell_type": "markdown",
      "metadata": {
        "id": "QP9NG2vWBAsn",
        "colab_type": "text"
      },
      "source": [
        "### Using Suffixes\n",
        "\n",
        "We can tailor the column labels with \"suffixes\" parameter. With this function we can take whatever custom names to choose for the column labels that are identical."
      ]
    },
    {
      "cell_type": "code",
      "metadata": {
        "id": "XGcwjgZCXBGN",
        "colab_type": "code",
        "colab": {
          "base_uri": "https://localhost:8080/",
          "height": 171
        },
        "outputId": "6c911751-7ceb-49f0-bc56-7c7f0214ba13"
      },
      "source": [
        "pd.merge(bronze, silver, on=['NOC','Country'], suffixes=['_bronze_medals','_silver_medals'])"
      ],
      "execution_count": 121,
      "outputs": [
        {
          "output_type": "execute_result",
          "data": {
            "text/html": [
              "<div>\n",
              "<style scoped>\n",
              "    .dataframe tbody tr th:only-of-type {\n",
              "        vertical-align: middle;\n",
              "    }\n",
              "\n",
              "    .dataframe tbody tr th {\n",
              "        vertical-align: top;\n",
              "    }\n",
              "\n",
              "    .dataframe thead th {\n",
              "        text-align: right;\n",
              "    }\n",
              "</style>\n",
              "<table border=\"1\" class=\"dataframe\">\n",
              "  <thead>\n",
              "    <tr style=\"text-align: right;\">\n",
              "      <th></th>\n",
              "      <th>NOC</th>\n",
              "      <th>Country</th>\n",
              "      <th>Total_bronze_medals</th>\n",
              "      <th>Total_silver_medals</th>\n",
              "    </tr>\n",
              "  </thead>\n",
              "  <tbody>\n",
              "    <tr>\n",
              "      <th>0</th>\n",
              "      <td>USA</td>\n",
              "      <td>United States</td>\n",
              "      <td>1052.0</td>\n",
              "      <td>1195.0</td>\n",
              "    </tr>\n",
              "    <tr>\n",
              "      <th>1</th>\n",
              "      <td>SOV</td>\n",
              "      <td>Soviet Union</td>\n",
              "      <td>584.0</td>\n",
              "      <td>627.0</td>\n",
              "    </tr>\n",
              "    <tr>\n",
              "      <th>2</th>\n",
              "      <td>UKD</td>\n",
              "      <td>United Kingdom</td>\n",
              "      <td>505.0</td>\n",
              "      <td>591.0</td>\n",
              "    </tr>\n",
              "    <tr>\n",
              "      <th>3</th>\n",
              "      <td>FRA</td>\n",
              "      <td>France</td>\n",
              "      <td>475.0</td>\n",
              "      <td>461.0</td>\n",
              "    </tr>\n",
              "  </tbody>\n",
              "</table>\n",
              "</div>"
            ],
            "text/plain": [
              "   NOC         Country  Total_bronze_medals  Total_silver_medals\n",
              "0  USA   United States               1052.0               1195.0\n",
              "1  SOV    Soviet Union                584.0                627.0\n",
              "2  UKD  United Kingdom                505.0                591.0\n",
              "3  FRA          France                475.0                461.0"
            ]
          },
          "metadata": {
            "tags": []
          },
          "execution_count": 121
        }
      ]
    },
    {
      "cell_type": "markdown",
      "metadata": {
        "id": "Vyb5inQCB_Ty",
        "colab_type": "text"
      },
      "source": [
        "### Merging with Inner join\n",
        "\n",
        "Function merge does an inner join by default.\n",
        "\n",
        "That is it extracts the rows that matches in the joining column (\"on' parameter) from both dataframes and enclose them together in a joined dataframe\n",
        "\n",
        "We can specify how='inner' but it is a default behaviour for the function.So, it is optional."
      ]
    },
    {
      "cell_type": "code",
      "metadata": {
        "id": "eDubGQuXXaD7",
        "colab_type": "code",
        "colab": {
          "base_uri": "https://localhost:8080/",
          "height": 171
        },
        "outputId": "c605a052-9342-420a-d088-8bd5085f1e98"
      },
      "source": [
        "pd.merge(bronze, silver, on=['NOC','Country'], suffixes=['_bronze_medals','_silver_medals'], how='inner')"
      ],
      "execution_count": 122,
      "outputs": [
        {
          "output_type": "execute_result",
          "data": {
            "text/html": [
              "<div>\n",
              "<style scoped>\n",
              "    .dataframe tbody tr th:only-of-type {\n",
              "        vertical-align: middle;\n",
              "    }\n",
              "\n",
              "    .dataframe tbody tr th {\n",
              "        vertical-align: top;\n",
              "    }\n",
              "\n",
              "    .dataframe thead th {\n",
              "        text-align: right;\n",
              "    }\n",
              "</style>\n",
              "<table border=\"1\" class=\"dataframe\">\n",
              "  <thead>\n",
              "    <tr style=\"text-align: right;\">\n",
              "      <th></th>\n",
              "      <th>NOC</th>\n",
              "      <th>Country</th>\n",
              "      <th>Total_bronze_medals</th>\n",
              "      <th>Total_silver_medals</th>\n",
              "    </tr>\n",
              "  </thead>\n",
              "  <tbody>\n",
              "    <tr>\n",
              "      <th>0</th>\n",
              "      <td>USA</td>\n",
              "      <td>United States</td>\n",
              "      <td>1052.0</td>\n",
              "      <td>1195.0</td>\n",
              "    </tr>\n",
              "    <tr>\n",
              "      <th>1</th>\n",
              "      <td>SOV</td>\n",
              "      <td>Soviet Union</td>\n",
              "      <td>584.0</td>\n",
              "      <td>627.0</td>\n",
              "    </tr>\n",
              "    <tr>\n",
              "      <th>2</th>\n",
              "      <td>UKD</td>\n",
              "      <td>United Kingdom</td>\n",
              "      <td>505.0</td>\n",
              "      <td>591.0</td>\n",
              "    </tr>\n",
              "    <tr>\n",
              "      <th>3</th>\n",
              "      <td>FRA</td>\n",
              "      <td>France</td>\n",
              "      <td>475.0</td>\n",
              "      <td>461.0</td>\n",
              "    </tr>\n",
              "  </tbody>\n",
              "</table>\n",
              "</div>"
            ],
            "text/plain": [
              "   NOC         Country  Total_bronze_medals  Total_silver_medals\n",
              "0  USA   United States               1052.0               1195.0\n",
              "1  SOV    Soviet Union                584.0                627.0\n",
              "2  UKD  United Kingdom                505.0                591.0\n",
              "3  FRA          France                475.0                461.0"
            ]
          },
          "metadata": {
            "tags": []
          },
          "execution_count": 122
        }
      ]
    },
    {
      "cell_type": "markdown",
      "metadata": {
        "id": "xHcYYCojCoJP",
        "colab_type": "text"
      },
      "source": [
        "### Merging with left join\n",
        "\n",
        " 1. By specifying how='left' keeps all the rows of the left dataframe in the merged dataframe.\n",
        "\n",
        " 2. For rows in the left dataframe with matches in the right dataframe -\n",
        "\n",
        "    Non-joining columns of right dataframe are appended to the left dataframe.\n",
        "\n",
        "3. For rows in the left dataframe with no matches in the right dataframe - \n",
        "\n",
        "    Non joining columns are filled with nulls\n",
        "\n",
        "\n",
        "For eg  - The row from the Germany is retained with a null value. Because Silver Medals dataframe have no Germany row.\n"
      ]
    },
    {
      "cell_type": "code",
      "metadata": {
        "id": "PtRAjkfbicz_",
        "colab_type": "code",
        "colab": {
          "base_uri": "https://localhost:8080/",
          "height": 202
        },
        "outputId": "dbee55b4-56e4-4dd5-bbaf-6c30d2d34fc8"
      },
      "source": [
        "pd.merge(bronze, silver, on=['NOC','Country'], suffixes=['_bronze_medals','_silver_medals'], how='left')"
      ],
      "execution_count": 124,
      "outputs": [
        {
          "output_type": "execute_result",
          "data": {
            "text/html": [
              "<div>\n",
              "<style scoped>\n",
              "    .dataframe tbody tr th:only-of-type {\n",
              "        vertical-align: middle;\n",
              "    }\n",
              "\n",
              "    .dataframe tbody tr th {\n",
              "        vertical-align: top;\n",
              "    }\n",
              "\n",
              "    .dataframe thead th {\n",
              "        text-align: right;\n",
              "    }\n",
              "</style>\n",
              "<table border=\"1\" class=\"dataframe\">\n",
              "  <thead>\n",
              "    <tr style=\"text-align: right;\">\n",
              "      <th></th>\n",
              "      <th>NOC</th>\n",
              "      <th>Country</th>\n",
              "      <th>Total_bronze_medals</th>\n",
              "      <th>Total_silver_medals</th>\n",
              "    </tr>\n",
              "  </thead>\n",
              "  <tbody>\n",
              "    <tr>\n",
              "      <th>0</th>\n",
              "      <td>USA</td>\n",
              "      <td>United States</td>\n",
              "      <td>1052.0</td>\n",
              "      <td>1195.0</td>\n",
              "    </tr>\n",
              "    <tr>\n",
              "      <th>1</th>\n",
              "      <td>SOV</td>\n",
              "      <td>Soviet Union</td>\n",
              "      <td>584.0</td>\n",
              "      <td>627.0</td>\n",
              "    </tr>\n",
              "    <tr>\n",
              "      <th>2</th>\n",
              "      <td>UKD</td>\n",
              "      <td>United Kingdom</td>\n",
              "      <td>505.0</td>\n",
              "      <td>591.0</td>\n",
              "    </tr>\n",
              "    <tr>\n",
              "      <th>3</th>\n",
              "      <td>FRA</td>\n",
              "      <td>France</td>\n",
              "      <td>475.0</td>\n",
              "      <td>461.0</td>\n",
              "    </tr>\n",
              "    <tr>\n",
              "      <th>4</th>\n",
              "      <td>GER</td>\n",
              "      <td>Germany</td>\n",
              "      <td>454.0</td>\n",
              "      <td>NaN</td>\n",
              "    </tr>\n",
              "  </tbody>\n",
              "</table>\n",
              "</div>"
            ],
            "text/plain": [
              "   NOC         Country  Total_bronze_medals  Total_silver_medals\n",
              "0  USA   United States               1052.0               1195.0\n",
              "1  SOV    Soviet Union                584.0                627.0\n",
              "2  UKD  United Kingdom                505.0                591.0\n",
              "3  FRA          France                475.0                461.0\n",
              "4  GER         Germany                454.0                  NaN"
            ]
          },
          "metadata": {
            "tags": []
          },
          "execution_count": 124
        }
      ]
    },
    {
      "cell_type": "markdown",
      "metadata": {
        "id": "HpJ5rSOKFeUL",
        "colab_type": "text"
      },
      "source": [
        "### Merging with right join\n",
        "\n",
        "Conversely, we can do right join.\n",
        "\n",
        "In this example we have reatined all 5 rows from the Silver Medals dataframe. This time Italy has nan entry in the total bronze medals column beacuse Bronze Medals dataframe has no Italy row."
      ]
    },
    {
      "cell_type": "code",
      "metadata": {
        "id": "1hgbzpcPigxF",
        "colab_type": "code",
        "colab": {
          "base_uri": "https://localhost:8080/",
          "height": 202
        },
        "outputId": "f6bc0f29-8c87-4b5c-fc7d-949a96f86188"
      },
      "source": [
        "pd.merge(bronze, silver, on=['NOC','Country'], suffixes=['_bronze_medals','_silver_medals'], how='right')"
      ],
      "execution_count": 125,
      "outputs": [
        {
          "output_type": "execute_result",
          "data": {
            "text/html": [
              "<div>\n",
              "<style scoped>\n",
              "    .dataframe tbody tr th:only-of-type {\n",
              "        vertical-align: middle;\n",
              "    }\n",
              "\n",
              "    .dataframe tbody tr th {\n",
              "        vertical-align: top;\n",
              "    }\n",
              "\n",
              "    .dataframe thead th {\n",
              "        text-align: right;\n",
              "    }\n",
              "</style>\n",
              "<table border=\"1\" class=\"dataframe\">\n",
              "  <thead>\n",
              "    <tr style=\"text-align: right;\">\n",
              "      <th></th>\n",
              "      <th>NOC</th>\n",
              "      <th>Country</th>\n",
              "      <th>Total_bronze_medals</th>\n",
              "      <th>Total_silver_medals</th>\n",
              "    </tr>\n",
              "  </thead>\n",
              "  <tbody>\n",
              "    <tr>\n",
              "      <th>0</th>\n",
              "      <td>USA</td>\n",
              "      <td>United States</td>\n",
              "      <td>1052.0</td>\n",
              "      <td>1195.0</td>\n",
              "    </tr>\n",
              "    <tr>\n",
              "      <th>1</th>\n",
              "      <td>SOV</td>\n",
              "      <td>Soviet Union</td>\n",
              "      <td>584.0</td>\n",
              "      <td>627.0</td>\n",
              "    </tr>\n",
              "    <tr>\n",
              "      <th>2</th>\n",
              "      <td>UKD</td>\n",
              "      <td>United Kingdom</td>\n",
              "      <td>505.0</td>\n",
              "      <td>591.0</td>\n",
              "    </tr>\n",
              "    <tr>\n",
              "      <th>3</th>\n",
              "      <td>FRA</td>\n",
              "      <td>France</td>\n",
              "      <td>475.0</td>\n",
              "      <td>461.0</td>\n",
              "    </tr>\n",
              "    <tr>\n",
              "      <th>4</th>\n",
              "      <td>ITY</td>\n",
              "      <td>Italy</td>\n",
              "      <td>NaN</td>\n",
              "      <td>394.0</td>\n",
              "    </tr>\n",
              "  </tbody>\n",
              "</table>\n",
              "</div>"
            ],
            "text/plain": [
              "   NOC         Country  Total_bronze_medals  Total_silver_medals\n",
              "0  USA   United States               1052.0               1195.0\n",
              "1  SOV    Soviet Union                584.0                627.0\n",
              "2  UKD  United Kingdom                505.0                591.0\n",
              "3  FRA          France                475.0                461.0\n",
              "4  ITY           Italy                  NaN                394.0"
            ]
          },
          "metadata": {
            "tags": []
          },
          "execution_count": 125
        }
      ]
    },
    {
      "cell_type": "markdown",
      "metadata": {
        "id": "KN5oALBvF4M1",
        "colab_type": "text"
      },
      "source": [
        "### Merging with outer join\n",
        "\n",
        "Finally the union of all the rows from both the dataframes can be preserved with an outer join.\n",
        "\n",
        "With the argument how='outer', we can clearly see that Germany is not present in the Silver medals winning countries and Italy in the Bronze medals winning countries\n"
      ]
    },
    {
      "cell_type": "code",
      "metadata": {
        "id": "_6UMLEHMXgjQ",
        "colab_type": "code",
        "colab": {
          "base_uri": "https://localhost:8080/",
          "height": 233
        },
        "outputId": "3cd5f2bf-2381-43f3-db74-52d650cf1802"
      },
      "source": [
        "result = pd.merge(bronze, silver, on=['NOC','Country'], suffixes=['_bronze_medals','_silver_medals'], how='outer')\n",
        "result"
      ],
      "execution_count": 164,
      "outputs": [
        {
          "output_type": "execute_result",
          "data": {
            "text/html": [
              "<div>\n",
              "<style scoped>\n",
              "    .dataframe tbody tr th:only-of-type {\n",
              "        vertical-align: middle;\n",
              "    }\n",
              "\n",
              "    .dataframe tbody tr th {\n",
              "        vertical-align: top;\n",
              "    }\n",
              "\n",
              "    .dataframe thead th {\n",
              "        text-align: right;\n",
              "    }\n",
              "</style>\n",
              "<table border=\"1\" class=\"dataframe\">\n",
              "  <thead>\n",
              "    <tr style=\"text-align: right;\">\n",
              "      <th></th>\n",
              "      <th>NOC</th>\n",
              "      <th>Country</th>\n",
              "      <th>Total_bronze_medals</th>\n",
              "      <th>Total_silver_medals</th>\n",
              "    </tr>\n",
              "  </thead>\n",
              "  <tbody>\n",
              "    <tr>\n",
              "      <th>0</th>\n",
              "      <td>USA</td>\n",
              "      <td>United States</td>\n",
              "      <td>1052.0</td>\n",
              "      <td>1195.0</td>\n",
              "    </tr>\n",
              "    <tr>\n",
              "      <th>1</th>\n",
              "      <td>SOV</td>\n",
              "      <td>Soviet Union</td>\n",
              "      <td>584.0</td>\n",
              "      <td>627.0</td>\n",
              "    </tr>\n",
              "    <tr>\n",
              "      <th>2</th>\n",
              "      <td>UKD</td>\n",
              "      <td>United Kingdom</td>\n",
              "      <td>505.0</td>\n",
              "      <td>591.0</td>\n",
              "    </tr>\n",
              "    <tr>\n",
              "      <th>3</th>\n",
              "      <td>FRA</td>\n",
              "      <td>France</td>\n",
              "      <td>475.0</td>\n",
              "      <td>461.0</td>\n",
              "    </tr>\n",
              "    <tr>\n",
              "      <th>4</th>\n",
              "      <td>GER</td>\n",
              "      <td>Germany</td>\n",
              "      <td>454.0</td>\n",
              "      <td>NaN</td>\n",
              "    </tr>\n",
              "    <tr>\n",
              "      <th>5</th>\n",
              "      <td>ITY</td>\n",
              "      <td>Italy</td>\n",
              "      <td>NaN</td>\n",
              "      <td>394.0</td>\n",
              "    </tr>\n",
              "  </tbody>\n",
              "</table>\n",
              "</div>"
            ],
            "text/plain": [
              "   NOC         Country  Total_bronze_medals  Total_silver_medals\n",
              "0  USA   United States               1052.0               1195.0\n",
              "1  SOV    Soviet Union                584.0                627.0\n",
              "2  UKD  United Kingdom                505.0                591.0\n",
              "3  FRA          France                475.0                461.0\n",
              "4  GER         Germany                454.0                  NaN\n",
              "5  ITY           Italy                  NaN                394.0"
            ]
          },
          "metadata": {
            "tags": []
          },
          "execution_count": 164
        }
      ]
    },
    {
      "cell_type": "markdown",
      "metadata": {
        "id": "tQK14QFgSc0C",
        "colab_type": "text"
      },
      "source": [
        "## Updating DataFrame"
      ]
    },
    {
      "cell_type": "markdown",
      "metadata": {
        "id": "yuDdZU5lGhFK",
        "colab_type": "text"
      },
      "source": [
        "### Filling the NaN values in the dataframe with .fillna(0) function"
      ]
    },
    {
      "cell_type": "code",
      "metadata": {
        "id": "0zcBWFHMy8lE",
        "colab_type": "code",
        "colab": {}
      },
      "source": [
        "result.fillna(0, inplace=True)"
      ],
      "execution_count": 0,
      "outputs": []
    },
    {
      "cell_type": "markdown",
      "metadata": {
        "id": "b-WUsT-EGvzX",
        "colab_type": "text"
      },
      "source": [
        "### Updated DataFrame"
      ]
    },
    {
      "cell_type": "code",
      "metadata": {
        "id": "xhoGY1UFzAzl",
        "colab_type": "code",
        "colab": {
          "base_uri": "https://localhost:8080/",
          "height": 233
        },
        "outputId": "928667b5-93e7-41f3-c573-e472f98c9c0d"
      },
      "source": [
        "result"
      ],
      "execution_count": 166,
      "outputs": [
        {
          "output_type": "execute_result",
          "data": {
            "text/html": [
              "<div>\n",
              "<style scoped>\n",
              "    .dataframe tbody tr th:only-of-type {\n",
              "        vertical-align: middle;\n",
              "    }\n",
              "\n",
              "    .dataframe tbody tr th {\n",
              "        vertical-align: top;\n",
              "    }\n",
              "\n",
              "    .dataframe thead th {\n",
              "        text-align: right;\n",
              "    }\n",
              "</style>\n",
              "<table border=\"1\" class=\"dataframe\">\n",
              "  <thead>\n",
              "    <tr style=\"text-align: right;\">\n",
              "      <th></th>\n",
              "      <th>NOC</th>\n",
              "      <th>Country</th>\n",
              "      <th>Total_bronze_medals</th>\n",
              "      <th>Total_silver_medals</th>\n",
              "    </tr>\n",
              "  </thead>\n",
              "  <tbody>\n",
              "    <tr>\n",
              "      <th>0</th>\n",
              "      <td>USA</td>\n",
              "      <td>United States</td>\n",
              "      <td>1052.0</td>\n",
              "      <td>1195.0</td>\n",
              "    </tr>\n",
              "    <tr>\n",
              "      <th>1</th>\n",
              "      <td>SOV</td>\n",
              "      <td>Soviet Union</td>\n",
              "      <td>584.0</td>\n",
              "      <td>627.0</td>\n",
              "    </tr>\n",
              "    <tr>\n",
              "      <th>2</th>\n",
              "      <td>UKD</td>\n",
              "      <td>United Kingdom</td>\n",
              "      <td>505.0</td>\n",
              "      <td>591.0</td>\n",
              "    </tr>\n",
              "    <tr>\n",
              "      <th>3</th>\n",
              "      <td>FRA</td>\n",
              "      <td>France</td>\n",
              "      <td>475.0</td>\n",
              "      <td>461.0</td>\n",
              "    </tr>\n",
              "    <tr>\n",
              "      <th>4</th>\n",
              "      <td>GER</td>\n",
              "      <td>Germany</td>\n",
              "      <td>454.0</td>\n",
              "      <td>0.0</td>\n",
              "    </tr>\n",
              "    <tr>\n",
              "      <th>5</th>\n",
              "      <td>ITY</td>\n",
              "      <td>Italy</td>\n",
              "      <td>0.0</td>\n",
              "      <td>394.0</td>\n",
              "    </tr>\n",
              "  </tbody>\n",
              "</table>\n",
              "</div>"
            ],
            "text/plain": [
              "   NOC         Country  Total_bronze_medals  Total_silver_medals\n",
              "0  USA   United States               1052.0               1195.0\n",
              "1  SOV    Soviet Union                584.0                627.0\n",
              "2  UKD  United Kingdom                505.0                591.0\n",
              "3  FRA          France                475.0                461.0\n",
              "4  GER         Germany                454.0                  0.0\n",
              "5  ITY           Italy                  0.0                394.0"
            ]
          },
          "metadata": {
            "tags": []
          },
          "execution_count": 166
        }
      ]
    },
    {
      "cell_type": "markdown",
      "metadata": {
        "id": "4b66s47-Gy9p",
        "colab_type": "text"
      },
      "source": [
        "### Adding a new column that adds the bronze and silver medals of each country."
      ]
    },
    {
      "cell_type": "code",
      "metadata": {
        "id": "hyOGIpp8zCj2",
        "colab_type": "code",
        "colab": {
          "base_uri": "https://localhost:8080/",
          "height": 233
        },
        "outputId": "54cc7540-73f4-434b-d1d5-500d7aa316f3"
      },
      "source": [
        "result['Total Medals'] = result['Total_bronze_medals'] + result['Total_silver_medals']\n",
        "result"
      ],
      "execution_count": 167,
      "outputs": [
        {
          "output_type": "execute_result",
          "data": {
            "text/html": [
              "<div>\n",
              "<style scoped>\n",
              "    .dataframe tbody tr th:only-of-type {\n",
              "        vertical-align: middle;\n",
              "    }\n",
              "\n",
              "    .dataframe tbody tr th {\n",
              "        vertical-align: top;\n",
              "    }\n",
              "\n",
              "    .dataframe thead th {\n",
              "        text-align: right;\n",
              "    }\n",
              "</style>\n",
              "<table border=\"1\" class=\"dataframe\">\n",
              "  <thead>\n",
              "    <tr style=\"text-align: right;\">\n",
              "      <th></th>\n",
              "      <th>NOC</th>\n",
              "      <th>Country</th>\n",
              "      <th>Total_bronze_medals</th>\n",
              "      <th>Total_silver_medals</th>\n",
              "      <th>Total Medals</th>\n",
              "    </tr>\n",
              "  </thead>\n",
              "  <tbody>\n",
              "    <tr>\n",
              "      <th>0</th>\n",
              "      <td>USA</td>\n",
              "      <td>United States</td>\n",
              "      <td>1052.0</td>\n",
              "      <td>1195.0</td>\n",
              "      <td>2247.0</td>\n",
              "    </tr>\n",
              "    <tr>\n",
              "      <th>1</th>\n",
              "      <td>SOV</td>\n",
              "      <td>Soviet Union</td>\n",
              "      <td>584.0</td>\n",
              "      <td>627.0</td>\n",
              "      <td>1211.0</td>\n",
              "    </tr>\n",
              "    <tr>\n",
              "      <th>2</th>\n",
              "      <td>UKD</td>\n",
              "      <td>United Kingdom</td>\n",
              "      <td>505.0</td>\n",
              "      <td>591.0</td>\n",
              "      <td>1096.0</td>\n",
              "    </tr>\n",
              "    <tr>\n",
              "      <th>3</th>\n",
              "      <td>FRA</td>\n",
              "      <td>France</td>\n",
              "      <td>475.0</td>\n",
              "      <td>461.0</td>\n",
              "      <td>936.0</td>\n",
              "    </tr>\n",
              "    <tr>\n",
              "      <th>4</th>\n",
              "      <td>GER</td>\n",
              "      <td>Germany</td>\n",
              "      <td>454.0</td>\n",
              "      <td>0.0</td>\n",
              "      <td>454.0</td>\n",
              "    </tr>\n",
              "    <tr>\n",
              "      <th>5</th>\n",
              "      <td>ITY</td>\n",
              "      <td>Italy</td>\n",
              "      <td>0.0</td>\n",
              "      <td>394.0</td>\n",
              "      <td>394.0</td>\n",
              "    </tr>\n",
              "  </tbody>\n",
              "</table>\n",
              "</div>"
            ],
            "text/plain": [
              "   NOC         Country  Total_bronze_medals  Total_silver_medals  Total Medals\n",
              "0  USA   United States               1052.0               1195.0        2247.0\n",
              "1  SOV    Soviet Union                584.0                627.0        1211.0\n",
              "2  UKD  United Kingdom                505.0                591.0        1096.0\n",
              "3  FRA          France                475.0                461.0         936.0\n",
              "4  GER         Germany                454.0                  0.0         454.0\n",
              "5  ITY           Italy                  0.0                394.0         394.0"
            ]
          },
          "metadata": {
            "tags": []
          },
          "execution_count": 167
        }
      ]
    },
    {
      "cell_type": "markdown",
      "metadata": {
        "id": "-fAcgO_6G9qb",
        "colab_type": "text"
      },
      "source": [
        "## Visualization Part\n",
        "\n",
        "Some visualizations have been made to give some better insights from the data."
      ]
    },
    {
      "cell_type": "markdown",
      "metadata": {
        "id": "fbTCasJZHAPt",
        "colab_type": "text"
      },
      "source": [
        "## 1st Visualization\n",
        "Showing the barplot of Total Bronze and Silver Medals of Each country"
      ]
    },
    {
      "cell_type": "code",
      "metadata": {
        "id": "GwbTkWftzNTo",
        "colab_type": "code",
        "colab": {
          "base_uri": "https://localhost:8080/",
          "height": 333
        },
        "outputId": "7a1bd021-470d-4d64-909a-2737836f2f53"
      },
      "source": [
        "fig, [ax1, ax2] = plt.subplots(1, 2)\n",
        "fig.set_size_inches(10,4)\n",
        "sns.barplot(data=result, x='Country', y='Total_bronze_medals', ax=ax1)\n",
        "sns.barplot(data=result, x='Country', y='Total_silver_medals', ax=ax2)\n",
        "\n",
        "ax1.set_xticklabels(result['Country'], rotation=45)\n",
        "ax2.set_xticklabels(result['Country'], rotation=45)\n",
        "plt.show()"
      ],
      "execution_count": 219,
      "outputs": [
        {
          "output_type": "display_data",
          "data": {
            "image/png": "[encoded data removed]",
            "text/plain": [
              "<Figure size 720x288 with 2 Axes>"
            ]
          },
          "metadata": {
            "tags": [],
            "needs_background": "light"
          }
        }
      ]
    },
    {
      "cell_type": "markdown",
      "metadata": {
        "id": "Sxjv5ac4HSvK",
        "colab_type": "text"
      },
      "source": [
        "## 2nd Visualization\n",
        "Showing Total medals vs country column"
      ]
    },
    {
      "cell_type": "code",
      "metadata": {
        "id": "52iTCINM6RrO",
        "colab_type": "code",
        "colab": {
          "base_uri": "https://localhost:8080/",
          "height": 369
        },
        "outputId": "1899b621-4b12-456f-a0cd-7216510dff6d"
      },
      "source": [
        "plot = sns.catplot(data=result, x='NOC',y='Total Medals', kind='bar', palette='Accent')\n",
        "plot.set(xlabel='Country Codes')\n",
        "plt.show()"
      ],
      "execution_count": 226,
      "outputs": [
        {
          "output_type": "display_data",
          "data": {
            "image/png": "[encoded data removed]",
            "text/plain": [
              "<Figure size 360x360 with 1 Axes>"
            ]
          },
          "metadata": {
            "tags": [],
            "needs_background": "light"
          }
        }
      ]
    },
    {
      "cell_type": "markdown",
      "metadata": {
        "id": "TjSo_M31HgUw",
        "colab_type": "text"
      },
      "source": [
        "## 3rd Visualization\n",
        "This is a gridspec of 1st and 2nd Visualizations"
      ]
    },
    {
      "cell_type": "code",
      "metadata": {
        "id": "qR8q_ZPY1uXz",
        "colab_type": "code",
        "colab": {
          "base_uri": "https://localhost:8080/",
          "height": 679
        },
        "outputId": "06372b9c-1632-4b98-d423-f3a33793de60"
      },
      "source": [
        "import matplotlib.pylab as pl\n",
        "import matplotlib.gridspec as gridspec\n",
        "\n",
        "# Create 2x2 sub plots\n",
        "\n",
        "gs = gridspec.GridSpec(2, 2, hspace=0.2)\n",
        "\n",
        "\n",
        "pl.figure(figsize=[10,10], facecolor='w')\n",
        "ax = pl.subplot(gs[0, 0]) # row 0, col 0\n",
        "ax.set_xticklabels(result['NOC'])\n",
        "ax.set_title(\"Total Bronze Medals\")\n",
        "pl.bar(result['Country'], height=result['Total_bronze_medals'], color='r')\n",
        "\n",
        "ax = pl.subplot(gs[0, 1]) # row 0, col 1\n",
        "ax.set_xticklabels(result['NOC'])\n",
        "ax.set_title(\"Total Silver Medals\")\n",
        "pl.bar(result['Country'], height=result['Total_silver_medals'], color='g')\n",
        "\n",
        "ax = pl.subplot(gs[1, :]) # row 1, span all columns\n",
        "ax.set_title(\"Total Medals\")\n",
        "ax.set_xticklabels(result['Country'], rotation=45)\n",
        "pl.bar(result['Country'], height=result['Total Medals'], color='b')\n"
      ],
      "execution_count": 216,
      "outputs": [
        {
          "output_type": "execute_result",
          "data": {
            "text/plain": [
              "<BarContainer object of 6 artists>"
            ]
          },
          "metadata": {
            "tags": []
          },
          "execution_count": 216
        },
        {
          "output_type": "display_data",
          "data": {
            "image/png": "[encoded data removed]",
            "text/plain": [
              "<Figure size 720x720 with 3 Axes>"
            ]
          },
          "metadata": {
            "tags": []
          }
        }
      ]
    }
  ]
}